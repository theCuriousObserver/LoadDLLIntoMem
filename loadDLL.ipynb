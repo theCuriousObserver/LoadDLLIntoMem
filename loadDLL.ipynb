{
 "cells": [
  {
   "cell_type": "code",
   "execution_count": 3,
   "metadata": {},
   "outputs": [
    {
     "name": "stdout",
     "output_type": "stream",
     "text": [
      "['C:\\\\Windows\\\\System32\\\\ntdll.dll', 'C:\\\\Windows\\\\System32\\\\wow64.dll']\n"
     ]
    }
   ],
   "source": [
    "from ctypes import *\n",
    "\n",
    "def runDLL():\n",
    "    dll_names = []\n",
    "    dll_names.append(r'C:\\Windows\\System32\\ntdll.dll')\n",
    "    dll_names.append(r'C:\\Windows\\System32\\ntdll.dll')\n",
    "    dll_names.append(r'C:\\Windows\\System32\\wow64.dll')\n",
    "    dll_names.append(r'C:\\Windows\\System32\\wow64.dll')\n",
    "    dll_names.append(r'C:\\Windows\\System32\\ntdll.dll')\n",
    "    return dll_names\n",
    "\n",
    "dll_names = runDLL()\n",
    "dll_names = list(set(dll_names))\n",
    "print (dll_names)"
   ]
  },
  {
   "cell_type": "code",
   "execution_count": 4,
   "metadata": {},
   "outputs": [
    {
     "data": {
      "text/plain": [
       "list"
      ]
     },
     "execution_count": 4,
     "metadata": {},
     "output_type": "execute_result"
    }
   ],
   "source": [
    "type(dll_names)"
   ]
  }
 ],
 "metadata": {
  "kernelspec": {
   "display_name": "Python 3.10.6 64-bit",
   "language": "python",
   "name": "python3"
  },
  "language_info": {
   "codemirror_mode": {
    "name": "ipython",
    "version": 3
   },
   "file_extension": ".py",
   "mimetype": "text/x-python",
   "name": "python",
   "nbconvert_exporter": "python",
   "pygments_lexer": "ipython3",
   "version": "3.10.6"
  },
  "orig_nbformat": 4,
  "vscode": {
   "interpreter": {
    "hash": "9811fd3f46e7d7229e055d80be35676c605f12ce1fbe7c843cdd55b4d8c4ec00"
   }
  }
 },
 "nbformat": 4,
 "nbformat_minor": 2
}
